{
 "cells": [
  {
   "cell_type": "markdown",
   "metadata": {
    "pycharm": {
     "name": "#%% md\n"
    }
   },
   "source": [
    "\n",
    "\n",
    "# PROJECT: INVESTIGATE IMDB MOVIE DATASET\n",
    "\n",
    "## Table of Contents\n",
    "<ul>\n",
    "<li><a href=\"#intro\">Introduction</a></li>\n",
    "<li><a href=\"#wrangling\">Data Wrangling</a></li>\n",
    "<li><a href=\"#eda\">Exploratory Data Analysis</a></li>\n",
    "<li><a href=\"#conclusions\">Conclusions</a></li>\n",
    "</ul>"
   ]
  },
  {
   "cell_type": "markdown",
   "metadata": {
    "pycharm": {
     "name": "#%% md\n"
    }
   },
   "source": [
    "<a id='intro'></a>\n",
    "## Introduction\n",
    "\n",
    "> **Tip**: In this section of the report, provide a brief introduction to the dataset you've selected for analysis. At the end of this section, describe the questions that you plan on exploring over the course of the report. Try to build your report around the analysis of at least one dependent variable and three independent variables.\n",
    ".\n",
    "\n",
    "> The dataset consists of meta details about the movies and tv shows such as the title, director, and cast of the shows / movies. Details such as the release year, the rating, duration etc. As the first step, let's load the dataset, create some new features. In this kernel, I have analysed this dataset to find top insights and findings.\n"
   ]
  },
  {
   "cell_type": "markdown",
   "metadata": {},
   "source": [
    "### Analysis will be based on the below questions:\n",
    "\n",
    " - Popular genre and also year to year and most popular Movie\n",
    " - Which movies made the most profit? Profit will be Budgeted less Revenue\n",
    " - Are movies with higher budgets more profitable?\n",
    " - Does movie budget have any impact on its popularity?\n",
    " - Does the movie runtime affect the cost of the production?\n",
    " - Which year or decade had the most movie release?\n",
    " - Is there a correlation between a movie runtime and popularity?Average runtime of most movies\n",
    " - Is there any correlation between vote count and popularity?\n",
    " - Relationship between the budget and popularity\n",
    " - Does the Director have any impact on a movies success (Popularity/Revenue)\n",
    " - Change in Total revenues across years (categorize years into decades i.e. 1960s, 1970s, etc)\n",
    " - Does the popularity of the movie influence the revenue?\n"
   ]
  },
  {
   "cell_type": "code",
   "execution_count": 143,
   "metadata": {
    "pycharm": {
     "name": "#%%\n"
    },
    "scrolled": false
   },
   "outputs": [
    {
     "data": {
      "text/html": [
       "<div>\n",
       "<style scoped>\n",
       "    .dataframe tbody tr th:only-of-type {\n",
       "        vertical-align: middle;\n",
       "    }\n",
       "\n",
       "    .dataframe tbody tr th {\n",
       "        vertical-align: top;\n",
       "    }\n",
       "\n",
       "    .dataframe thead th {\n",
       "        text-align: right;\n",
       "    }\n",
       "</style>\n",
       "<table border=\"1\" class=\"dataframe\">\n",
       "  <thead>\n",
       "    <tr style=\"text-align: right;\">\n",
       "      <th></th>\n",
       "      <th>0</th>\n",
       "      <th>1</th>\n",
       "      <th>2</th>\n",
       "      <th>3</th>\n",
       "      <th>4</th>\n",
       "    </tr>\n",
       "  </thead>\n",
       "  <tbody>\n",
       "    <tr>\n",
       "      <th>id</th>\n",
       "      <td>135397</td>\n",
       "      <td>76341</td>\n",
       "      <td>262500</td>\n",
       "      <td>140607</td>\n",
       "      <td>168259</td>\n",
       "    </tr>\n",
       "    <tr>\n",
       "      <th>imdb_id</th>\n",
       "      <td>tt0369610</td>\n",
       "      <td>tt1392190</td>\n",
       "      <td>tt2908446</td>\n",
       "      <td>tt2488496</td>\n",
       "      <td>tt2820852</td>\n",
       "    </tr>\n",
       "    <tr>\n",
       "      <th>popularity</th>\n",
       "      <td>32.985763</td>\n",
       "      <td>28.419936</td>\n",
       "      <td>13.112507</td>\n",
       "      <td>11.173104</td>\n",
       "      <td>9.335014</td>\n",
       "    </tr>\n",
       "    <tr>\n",
       "      <th>budget</th>\n",
       "      <td>150000000</td>\n",
       "      <td>150000000</td>\n",
       "      <td>110000000</td>\n",
       "      <td>200000000</td>\n",
       "      <td>190000000</td>\n",
       "    </tr>\n",
       "    <tr>\n",
       "      <th>revenue</th>\n",
       "      <td>1513528810</td>\n",
       "      <td>378436354</td>\n",
       "      <td>295238201</td>\n",
       "      <td>2068178225</td>\n",
       "      <td>1506249360</td>\n",
       "    </tr>\n",
       "    <tr>\n",
       "      <th>original_title</th>\n",
       "      <td>Jurassic World</td>\n",
       "      <td>Mad Max: Fury Road</td>\n",
       "      <td>Insurgent</td>\n",
       "      <td>Star Wars: The Force Awakens</td>\n",
       "      <td>Furious 7</td>\n",
       "    </tr>\n",
       "    <tr>\n",
       "      <th>cast</th>\n",
       "      <td>Chris Pratt|Bryce Dallas Howard|Irrfan Khan|Vi...</td>\n",
       "      <td>Tom Hardy|Charlize Theron|Hugh Keays-Byrne|Nic...</td>\n",
       "      <td>Shailene Woodley|Theo James|Kate Winslet|Ansel...</td>\n",
       "      <td>Harrison Ford|Mark Hamill|Carrie Fisher|Adam D...</td>\n",
       "      <td>Vin Diesel|Paul Walker|Jason Statham|Michelle ...</td>\n",
       "    </tr>\n",
       "    <tr>\n",
       "      <th>homepage</th>\n",
       "      <td>http://www.jurassicworld.com/</td>\n",
       "      <td>http://www.madmaxmovie.com/</td>\n",
       "      <td>http://www.thedivergentseries.movie/#insurgent</td>\n",
       "      <td>http://www.starwars.com/films/star-wars-episod...</td>\n",
       "      <td>http://www.furious7.com/</td>\n",
       "    </tr>\n",
       "    <tr>\n",
       "      <th>director</th>\n",
       "      <td>Colin Trevorrow</td>\n",
       "      <td>George Miller</td>\n",
       "      <td>Robert Schwentke</td>\n",
       "      <td>J.J. Abrams</td>\n",
       "      <td>James Wan</td>\n",
       "    </tr>\n",
       "    <tr>\n",
       "      <th>tagline</th>\n",
       "      <td>The park is open.</td>\n",
       "      <td>What a Lovely Day.</td>\n",
       "      <td>One Choice Can Destroy You</td>\n",
       "      <td>Every generation has a story.</td>\n",
       "      <td>Vengeance Hits Home</td>\n",
       "    </tr>\n",
       "    <tr>\n",
       "      <th>keywords</th>\n",
       "      <td>monster|dna|tyrannosaurus rex|velociraptor|island</td>\n",
       "      <td>future|chase|post-apocalyptic|dystopia|australia</td>\n",
       "      <td>based on novel|revolution|dystopia|sequel|dyst...</td>\n",
       "      <td>android|spaceship|jedi|space opera|3d</td>\n",
       "      <td>car race|speed|revenge|suspense|car</td>\n",
       "    </tr>\n",
       "    <tr>\n",
       "      <th>overview</th>\n",
       "      <td>Twenty-two years after the events of Jurassic ...</td>\n",
       "      <td>An apocalyptic story set in the furthest reach...</td>\n",
       "      <td>Beatrice Prior must confront her inner demons ...</td>\n",
       "      <td>Thirty years after defeating the Galactic Empi...</td>\n",
       "      <td>Deckard Shaw seeks revenge against Dominic Tor...</td>\n",
       "    </tr>\n",
       "    <tr>\n",
       "      <th>runtime</th>\n",
       "      <td>124</td>\n",
       "      <td>120</td>\n",
       "      <td>119</td>\n",
       "      <td>136</td>\n",
       "      <td>137</td>\n",
       "    </tr>\n",
       "    <tr>\n",
       "      <th>genres</th>\n",
       "      <td>Action|Adventure|Science Fiction|Thriller</td>\n",
       "      <td>Action|Adventure|Science Fiction|Thriller</td>\n",
       "      <td>Adventure|Science Fiction|Thriller</td>\n",
       "      <td>Action|Adventure|Science Fiction|Fantasy</td>\n",
       "      <td>Action|Crime|Thriller</td>\n",
       "    </tr>\n",
       "    <tr>\n",
       "      <th>production_companies</th>\n",
       "      <td>Universal Studios|Amblin Entertainment|Legenda...</td>\n",
       "      <td>Village Roadshow Pictures|Kennedy Miller Produ...</td>\n",
       "      <td>Summit Entertainment|Mandeville Films|Red Wago...</td>\n",
       "      <td>Lucasfilm|Truenorth Productions|Bad Robot</td>\n",
       "      <td>Universal Pictures|Original Film|Media Rights ...</td>\n",
       "    </tr>\n",
       "    <tr>\n",
       "      <th>release_date</th>\n",
       "      <td>6/9/15</td>\n",
       "      <td>5/13/15</td>\n",
       "      <td>3/18/15</td>\n",
       "      <td>12/15/15</td>\n",
       "      <td>4/1/15</td>\n",
       "    </tr>\n",
       "    <tr>\n",
       "      <th>vote_count</th>\n",
       "      <td>5562</td>\n",
       "      <td>6185</td>\n",
       "      <td>2480</td>\n",
       "      <td>5292</td>\n",
       "      <td>2947</td>\n",
       "    </tr>\n",
       "    <tr>\n",
       "      <th>vote_average</th>\n",
       "      <td>6.5</td>\n",
       "      <td>7.1</td>\n",
       "      <td>6.3</td>\n",
       "      <td>7.5</td>\n",
       "      <td>7.3</td>\n",
       "    </tr>\n",
       "    <tr>\n",
       "      <th>release_year</th>\n",
       "      <td>2015</td>\n",
       "      <td>2015</td>\n",
       "      <td>2015</td>\n",
       "      <td>2015</td>\n",
       "      <td>2015</td>\n",
       "    </tr>\n",
       "    <tr>\n",
       "      <th>budget_adj</th>\n",
       "      <td>137999939.280026</td>\n",
       "      <td>137999939.280026</td>\n",
       "      <td>101199955.472019</td>\n",
       "      <td>183999919.040035</td>\n",
       "      <td>174799923.088033</td>\n",
       "    </tr>\n",
       "    <tr>\n",
       "      <th>revenue_adj</th>\n",
       "      <td>1392445892.5238</td>\n",
       "      <td>348161292.489031</td>\n",
       "      <td>271619025.407628</td>\n",
       "      <td>1902723129.80182</td>\n",
       "      <td>1385748801.47052</td>\n",
       "    </tr>\n",
       "  </tbody>\n",
       "</table>\n",
       "</div>"
      ],
      "text/plain": [
       "                                                                      0  \\\n",
       "id                                                               135397   \n",
       "imdb_id                                                       tt0369610   \n",
       "popularity                                                    32.985763   \n",
       "budget                                                        150000000   \n",
       "revenue                                                      1513528810   \n",
       "original_title                                           Jurassic World   \n",
       "cast                  Chris Pratt|Bryce Dallas Howard|Irrfan Khan|Vi...   \n",
       "homepage                                  http://www.jurassicworld.com/   \n",
       "director                                                Colin Trevorrow   \n",
       "tagline                                               The park is open.   \n",
       "keywords              monster|dna|tyrannosaurus rex|velociraptor|island   \n",
       "overview              Twenty-two years after the events of Jurassic ...   \n",
       "runtime                                                             124   \n",
       "genres                        Action|Adventure|Science Fiction|Thriller   \n",
       "production_companies  Universal Studios|Amblin Entertainment|Legenda...   \n",
       "release_date                                                     6/9/15   \n",
       "vote_count                                                         5562   \n",
       "vote_average                                                        6.5   \n",
       "release_year                                                       2015   \n",
       "budget_adj                                             137999939.280026   \n",
       "revenue_adj                                             1392445892.5238   \n",
       "\n",
       "                                                                      1  \\\n",
       "id                                                                76341   \n",
       "imdb_id                                                       tt1392190   \n",
       "popularity                                                    28.419936   \n",
       "budget                                                        150000000   \n",
       "revenue                                                       378436354   \n",
       "original_title                                       Mad Max: Fury Road   \n",
       "cast                  Tom Hardy|Charlize Theron|Hugh Keays-Byrne|Nic...   \n",
       "homepage                                    http://www.madmaxmovie.com/   \n",
       "director                                                  George Miller   \n",
       "tagline                                              What a Lovely Day.   \n",
       "keywords               future|chase|post-apocalyptic|dystopia|australia   \n",
       "overview              An apocalyptic story set in the furthest reach...   \n",
       "runtime                                                             120   \n",
       "genres                        Action|Adventure|Science Fiction|Thriller   \n",
       "production_companies  Village Roadshow Pictures|Kennedy Miller Produ...   \n",
       "release_date                                                    5/13/15   \n",
       "vote_count                                                         6185   \n",
       "vote_average                                                        7.1   \n",
       "release_year                                                       2015   \n",
       "budget_adj                                             137999939.280026   \n",
       "revenue_adj                                            348161292.489031   \n",
       "\n",
       "                                                                      2  \\\n",
       "id                                                               262500   \n",
       "imdb_id                                                       tt2908446   \n",
       "popularity                                                    13.112507   \n",
       "budget                                                        110000000   \n",
       "revenue                                                       295238201   \n",
       "original_title                                                Insurgent   \n",
       "cast                  Shailene Woodley|Theo James|Kate Winslet|Ansel...   \n",
       "homepage                 http://www.thedivergentseries.movie/#insurgent   \n",
       "director                                               Robert Schwentke   \n",
       "tagline                                      One Choice Can Destroy You   \n",
       "keywords              based on novel|revolution|dystopia|sequel|dyst...   \n",
       "overview              Beatrice Prior must confront her inner demons ...   \n",
       "runtime                                                             119   \n",
       "genres                               Adventure|Science Fiction|Thriller   \n",
       "production_companies  Summit Entertainment|Mandeville Films|Red Wago...   \n",
       "release_date                                                    3/18/15   \n",
       "vote_count                                                         2480   \n",
       "vote_average                                                        6.3   \n",
       "release_year                                                       2015   \n",
       "budget_adj                                             101199955.472019   \n",
       "revenue_adj                                            271619025.407628   \n",
       "\n",
       "                                                                      3  \\\n",
       "id                                                               140607   \n",
       "imdb_id                                                       tt2488496   \n",
       "popularity                                                    11.173104   \n",
       "budget                                                        200000000   \n",
       "revenue                                                      2068178225   \n",
       "original_title                             Star Wars: The Force Awakens   \n",
       "cast                  Harrison Ford|Mark Hamill|Carrie Fisher|Adam D...   \n",
       "homepage              http://www.starwars.com/films/star-wars-episod...   \n",
       "director                                                    J.J. Abrams   \n",
       "tagline                                   Every generation has a story.   \n",
       "keywords                          android|spaceship|jedi|space opera|3d   \n",
       "overview              Thirty years after defeating the Galactic Empi...   \n",
       "runtime                                                             136   \n",
       "genres                         Action|Adventure|Science Fiction|Fantasy   \n",
       "production_companies          Lucasfilm|Truenorth Productions|Bad Robot   \n",
       "release_date                                                   12/15/15   \n",
       "vote_count                                                         5292   \n",
       "vote_average                                                        7.5   \n",
       "release_year                                                       2015   \n",
       "budget_adj                                             183999919.040035   \n",
       "revenue_adj                                            1902723129.80182   \n",
       "\n",
       "                                                                      4  \n",
       "id                                                               168259  \n",
       "imdb_id                                                       tt2820852  \n",
       "popularity                                                     9.335014  \n",
       "budget                                                        190000000  \n",
       "revenue                                                      1506249360  \n",
       "original_title                                                Furious 7  \n",
       "cast                  Vin Diesel|Paul Walker|Jason Statham|Michelle ...  \n",
       "homepage                                       http://www.furious7.com/  \n",
       "director                                                      James Wan  \n",
       "tagline                                             Vengeance Hits Home  \n",
       "keywords                            car race|speed|revenge|suspense|car  \n",
       "overview              Deckard Shaw seeks revenge against Dominic Tor...  \n",
       "runtime                                                             137  \n",
       "genres                                            Action|Crime|Thriller  \n",
       "production_companies  Universal Pictures|Original Film|Media Rights ...  \n",
       "release_date                                                     4/1/15  \n",
       "vote_count                                                         2947  \n",
       "vote_average                                                        7.3  \n",
       "release_year                                                       2015  \n",
       "budget_adj                                             174799923.088033  \n",
       "revenue_adj                                            1385748801.47052  "
      ]
     },
     "execution_count": 143,
     "metadata": {},
     "output_type": "execute_result"
    }
   ],
   "source": [
    "# This cell sets up import statements for all of the packages that you\n",
    "# plan to use. Include a 'magic word' so that your visualizations are plotted\n",
    "# inline with the notebook.\n",
    "\n",
    "import pandas as pd\n",
    "import matplotlib.pyplot as plt\n",
    "import seaborn as sns\n",
    "%matplotlib inline\n",
    "sns.set_theme()\n",
    "\n",
    "df_movies = pd.read_csv('tmdb_movies.csv')\n",
    "df_movies.head().T"
   ]
  },
  {
   "cell_type": "code",
   "execution_count": 144,
   "metadata": {},
   "outputs": [
    {
     "data": {
      "text/plain": [
       "(10866, 21)"
      ]
     },
     "execution_count": 144,
     "metadata": {},
     "output_type": "execute_result"
    }
   ],
   "source": [
    "df_movies.shape #No.of columns and rows [columns: 22, rows: 10866]"
   ]
  },
  {
   "cell_type": "code",
   "execution_count": 145,
   "metadata": {},
   "outputs": [
    {
     "data": {
      "text/html": [
       "<div>\n",
       "<style scoped>\n",
       "    .dataframe tbody tr th:only-of-type {\n",
       "        vertical-align: middle;\n",
       "    }\n",
       "\n",
       "    .dataframe tbody tr th {\n",
       "        vertical-align: top;\n",
       "    }\n",
       "\n",
       "    .dataframe thead th {\n",
       "        text-align: right;\n",
       "    }\n",
       "</style>\n",
       "<table border=\"1\" class=\"dataframe\">\n",
       "  <thead>\n",
       "    <tr style=\"text-align: right;\">\n",
       "      <th></th>\n",
       "      <th>id</th>\n",
       "      <th>imdb_id</th>\n",
       "      <th>popularity</th>\n",
       "      <th>budget</th>\n",
       "      <th>revenue</th>\n",
       "      <th>original_title</th>\n",
       "      <th>cast</th>\n",
       "      <th>director</th>\n",
       "      <th>runtime</th>\n",
       "      <th>genres</th>\n",
       "      <th>release_date</th>\n",
       "      <th>vote_count</th>\n",
       "      <th>vote_average</th>\n",
       "      <th>release_year</th>\n",
       "      <th>budget_adj</th>\n",
       "      <th>revenue_adj</th>\n",
       "    </tr>\n",
       "  </thead>\n",
       "  <tbody>\n",
       "    <tr>\n",
       "      <th>0</th>\n",
       "      <td>135397</td>\n",
       "      <td>tt0369610</td>\n",
       "      <td>32.985763</td>\n",
       "      <td>150000000</td>\n",
       "      <td>1513528810</td>\n",
       "      <td>Jurassic World</td>\n",
       "      <td>Chris Pratt|Bryce Dallas Howard|Irrfan Khan|Vi...</td>\n",
       "      <td>Colin Trevorrow</td>\n",
       "      <td>124</td>\n",
       "      <td>Action|Adventure|Science Fiction|Thriller</td>\n",
       "      <td>6/9/15</td>\n",
       "      <td>5562</td>\n",
       "      <td>6.5</td>\n",
       "      <td>2015</td>\n",
       "      <td>1.379999e+08</td>\n",
       "      <td>1.392446e+09</td>\n",
       "    </tr>\n",
       "  </tbody>\n",
       "</table>\n",
       "</div>"
      ],
      "text/plain": [
       "       id    imdb_id  popularity     budget     revenue  original_title  \\\n",
       "0  135397  tt0369610   32.985763  150000000  1513528810  Jurassic World   \n",
       "\n",
       "                                                cast         director  \\\n",
       "0  Chris Pratt|Bryce Dallas Howard|Irrfan Khan|Vi...  Colin Trevorrow   \n",
       "\n",
       "   runtime                                     genres release_date  \\\n",
       "0      124  Action|Adventure|Science Fiction|Thriller       6/9/15   \n",
       "\n",
       "   vote_count  vote_average  release_year    budget_adj   revenue_adj  \n",
       "0        5562           6.5          2015  1.379999e+08  1.392446e+09  "
      ]
     },
     "execution_count": 145,
     "metadata": {},
     "output_type": "execute_result"
    }
   ],
   "source": [
    "# dropping multiple columns from imdb dataset. For this particular analysis this columns aren't needed.\n",
    "df_movies.drop(['homepage', 'tagline', 'keywords', 'overview', 'production_companies'], axis=1, inplace=True)\n",
    "\n",
    "# confirm changes\n",
    "df_movies.head(1)"
   ]
  },
  {
   "cell_type": "code",
   "execution_count": 146,
   "metadata": {},
   "outputs": [
    {
     "data": {
      "text/plain": [
       "(10866, 16)"
      ]
     },
     "execution_count": 146,
     "metadata": {},
     "output_type": "execute_result"
    }
   ],
   "source": [
    "df_movies.shape #No.of columns and rows [columns: 16, rows: 10866]"
   ]
  },
  {
   "cell_type": "code",
   "execution_count": 147,
   "metadata": {},
   "outputs": [
    {
     "name": "stdout",
     "output_type": "stream",
     "text": [
      "<class 'pandas.core.frame.DataFrame'>\n",
      "RangeIndex: 10866 entries, 0 to 10865\n",
      "Data columns (total 16 columns):\n",
      " #   Column          Non-Null Count  Dtype  \n",
      "---  ------          --------------  -----  \n",
      " 0   id              10866 non-null  int64  \n",
      " 1   imdb_id         10856 non-null  object \n",
      " 2   popularity      10866 non-null  float64\n",
      " 3   budget          10866 non-null  int64  \n",
      " 4   revenue         10866 non-null  int64  \n",
      " 5   original_title  10866 non-null  object \n",
      " 6   cast            10790 non-null  object \n",
      " 7   director        10822 non-null  object \n",
      " 8   runtime         10866 non-null  int64  \n",
      " 9   genres          10843 non-null  object \n",
      " 10  release_date    10866 non-null  object \n",
      " 11  vote_count      10866 non-null  int64  \n",
      " 12  vote_average    10866 non-null  float64\n",
      " 13  release_year    10866 non-null  int64  \n",
      " 14  budget_adj      10866 non-null  float64\n",
      " 15  revenue_adj     10866 non-null  float64\n",
      "dtypes: float64(4), int64(6), object(6)\n",
      "memory usage: 1.3+ MB\n"
     ]
    }
   ],
   "source": [
    "df_movies.info()"
   ]
  },
  {
   "cell_type": "markdown",
   "metadata": {},
   "source": [
    " - from the above data types release date is a string which need to be converted into a datetime type. I think i'll leave the release year as an integer though.\n",
    " - I also think i should create a new ID_TITLE that'll concatenate the imdb_id and the original_title and delete the ID column.\n",
    " "
   ]
  },
  {
   "cell_type": "markdown",
   "metadata": {},
   "source": [
    "# Cleaning the data\n",
    "\n",
    " - I'll start by finding the null values if any in the columns and rows.\n",
    " - Also find the duplicated values if any\n",
    " - Perform the datetime conversion "
   ]
  },
  {
   "cell_type": "code",
   "execution_count": 148,
   "metadata": {},
   "outputs": [],
   "source": [
    "df_movies['release_date'] = pd.to_datetime(df_movies['release_date'], format='%m/%d/%y', errors='ignore')"
   ]
  },
  {
   "cell_type": "code",
   "execution_count": 149,
   "metadata": {
    "scrolled": false
   },
   "outputs": [
    {
     "data": {
      "text/html": [
       "<div>\n",
       "<style scoped>\n",
       "    .dataframe tbody tr th:only-of-type {\n",
       "        vertical-align: middle;\n",
       "    }\n",
       "\n",
       "    .dataframe tbody tr th {\n",
       "        vertical-align: top;\n",
       "    }\n",
       "\n",
       "    .dataframe thead th {\n",
       "        text-align: right;\n",
       "    }\n",
       "</style>\n",
       "<table border=\"1\" class=\"dataframe\">\n",
       "  <thead>\n",
       "    <tr style=\"text-align: right;\">\n",
       "      <th></th>\n",
       "      <th>0</th>\n",
       "      <th>1</th>\n",
       "      <th>2</th>\n",
       "      <th>3</th>\n",
       "      <th>4</th>\n",
       "    </tr>\n",
       "  </thead>\n",
       "  <tbody>\n",
       "    <tr>\n",
       "      <th>id</th>\n",
       "      <td>135397</td>\n",
       "      <td>76341</td>\n",
       "      <td>262500</td>\n",
       "      <td>140607</td>\n",
       "      <td>168259</td>\n",
       "    </tr>\n",
       "    <tr>\n",
       "      <th>imdb_id</th>\n",
       "      <td>tt0369610</td>\n",
       "      <td>tt1392190</td>\n",
       "      <td>tt2908446</td>\n",
       "      <td>tt2488496</td>\n",
       "      <td>tt2820852</td>\n",
       "    </tr>\n",
       "    <tr>\n",
       "      <th>popularity</th>\n",
       "      <td>32.985763</td>\n",
       "      <td>28.419936</td>\n",
       "      <td>13.112507</td>\n",
       "      <td>11.173104</td>\n",
       "      <td>9.335014</td>\n",
       "    </tr>\n",
       "    <tr>\n",
       "      <th>budget</th>\n",
       "      <td>150000000</td>\n",
       "      <td>150000000</td>\n",
       "      <td>110000000</td>\n",
       "      <td>200000000</td>\n",
       "      <td>190000000</td>\n",
       "    </tr>\n",
       "    <tr>\n",
       "      <th>revenue</th>\n",
       "      <td>1513528810</td>\n",
       "      <td>378436354</td>\n",
       "      <td>295238201</td>\n",
       "      <td>2068178225</td>\n",
       "      <td>1506249360</td>\n",
       "    </tr>\n",
       "    <tr>\n",
       "      <th>original_title</th>\n",
       "      <td>Jurassic World</td>\n",
       "      <td>Mad Max: Fury Road</td>\n",
       "      <td>Insurgent</td>\n",
       "      <td>Star Wars: The Force Awakens</td>\n",
       "      <td>Furious 7</td>\n",
       "    </tr>\n",
       "    <tr>\n",
       "      <th>cast</th>\n",
       "      <td>Chris Pratt|Bryce Dallas Howard|Irrfan Khan|Vi...</td>\n",
       "      <td>Tom Hardy|Charlize Theron|Hugh Keays-Byrne|Nic...</td>\n",
       "      <td>Shailene Woodley|Theo James|Kate Winslet|Ansel...</td>\n",
       "      <td>Harrison Ford|Mark Hamill|Carrie Fisher|Adam D...</td>\n",
       "      <td>Vin Diesel|Paul Walker|Jason Statham|Michelle ...</td>\n",
       "    </tr>\n",
       "    <tr>\n",
       "      <th>director</th>\n",
       "      <td>Colin Trevorrow</td>\n",
       "      <td>George Miller</td>\n",
       "      <td>Robert Schwentke</td>\n",
       "      <td>J.J. Abrams</td>\n",
       "      <td>James Wan</td>\n",
       "    </tr>\n",
       "    <tr>\n",
       "      <th>runtime</th>\n",
       "      <td>124</td>\n",
       "      <td>120</td>\n",
       "      <td>119</td>\n",
       "      <td>136</td>\n",
       "      <td>137</td>\n",
       "    </tr>\n",
       "    <tr>\n",
       "      <th>genres</th>\n",
       "      <td>Action|Adventure|Science Fiction|Thriller</td>\n",
       "      <td>Action|Adventure|Science Fiction|Thriller</td>\n",
       "      <td>Adventure|Science Fiction|Thriller</td>\n",
       "      <td>Action|Adventure|Science Fiction|Fantasy</td>\n",
       "      <td>Action|Crime|Thriller</td>\n",
       "    </tr>\n",
       "    <tr>\n",
       "      <th>release_date</th>\n",
       "      <td>2015-06-09 00:00:00</td>\n",
       "      <td>2015-05-13 00:00:00</td>\n",
       "      <td>2015-03-18 00:00:00</td>\n",
       "      <td>2015-12-15 00:00:00</td>\n",
       "      <td>2015-04-01 00:00:00</td>\n",
       "    </tr>\n",
       "    <tr>\n",
       "      <th>vote_count</th>\n",
       "      <td>5562</td>\n",
       "      <td>6185</td>\n",
       "      <td>2480</td>\n",
       "      <td>5292</td>\n",
       "      <td>2947</td>\n",
       "    </tr>\n",
       "    <tr>\n",
       "      <th>vote_average</th>\n",
       "      <td>6.5</td>\n",
       "      <td>7.1</td>\n",
       "      <td>6.3</td>\n",
       "      <td>7.5</td>\n",
       "      <td>7.3</td>\n",
       "    </tr>\n",
       "    <tr>\n",
       "      <th>release_year</th>\n",
       "      <td>2015</td>\n",
       "      <td>2015</td>\n",
       "      <td>2015</td>\n",
       "      <td>2015</td>\n",
       "      <td>2015</td>\n",
       "    </tr>\n",
       "    <tr>\n",
       "      <th>budget_adj</th>\n",
       "      <td>137999939.280026</td>\n",
       "      <td>137999939.280026</td>\n",
       "      <td>101199955.472019</td>\n",
       "      <td>183999919.040035</td>\n",
       "      <td>174799923.088033</td>\n",
       "    </tr>\n",
       "    <tr>\n",
       "      <th>revenue_adj</th>\n",
       "      <td>1392445892.5238</td>\n",
       "      <td>348161292.489031</td>\n",
       "      <td>271619025.407628</td>\n",
       "      <td>1902723129.80182</td>\n",
       "      <td>1385748801.47052</td>\n",
       "    </tr>\n",
       "  </tbody>\n",
       "</table>\n",
       "</div>"
      ],
      "text/plain": [
       "                                                                0  \\\n",
       "id                                                         135397   \n",
       "imdb_id                                                 tt0369610   \n",
       "popularity                                              32.985763   \n",
       "budget                                                  150000000   \n",
       "revenue                                                1513528810   \n",
       "original_title                                     Jurassic World   \n",
       "cast            Chris Pratt|Bryce Dallas Howard|Irrfan Khan|Vi...   \n",
       "director                                          Colin Trevorrow   \n",
       "runtime                                                       124   \n",
       "genres                  Action|Adventure|Science Fiction|Thriller   \n",
       "release_date                                  2015-06-09 00:00:00   \n",
       "vote_count                                                   5562   \n",
       "vote_average                                                  6.5   \n",
       "release_year                                                 2015   \n",
       "budget_adj                                       137999939.280026   \n",
       "revenue_adj                                       1392445892.5238   \n",
       "\n",
       "                                                                1  \\\n",
       "id                                                          76341   \n",
       "imdb_id                                                 tt1392190   \n",
       "popularity                                              28.419936   \n",
       "budget                                                  150000000   \n",
       "revenue                                                 378436354   \n",
       "original_title                                 Mad Max: Fury Road   \n",
       "cast            Tom Hardy|Charlize Theron|Hugh Keays-Byrne|Nic...   \n",
       "director                                            George Miller   \n",
       "runtime                                                       120   \n",
       "genres                  Action|Adventure|Science Fiction|Thriller   \n",
       "release_date                                  2015-05-13 00:00:00   \n",
       "vote_count                                                   6185   \n",
       "vote_average                                                  7.1   \n",
       "release_year                                                 2015   \n",
       "budget_adj                                       137999939.280026   \n",
       "revenue_adj                                      348161292.489031   \n",
       "\n",
       "                                                                2  \\\n",
       "id                                                         262500   \n",
       "imdb_id                                                 tt2908446   \n",
       "popularity                                              13.112507   \n",
       "budget                                                  110000000   \n",
       "revenue                                                 295238201   \n",
       "original_title                                          Insurgent   \n",
       "cast            Shailene Woodley|Theo James|Kate Winslet|Ansel...   \n",
       "director                                         Robert Schwentke   \n",
       "runtime                                                       119   \n",
       "genres                         Adventure|Science Fiction|Thriller   \n",
       "release_date                                  2015-03-18 00:00:00   \n",
       "vote_count                                                   2480   \n",
       "vote_average                                                  6.3   \n",
       "release_year                                                 2015   \n",
       "budget_adj                                       101199955.472019   \n",
       "revenue_adj                                      271619025.407628   \n",
       "\n",
       "                                                                3  \\\n",
       "id                                                         140607   \n",
       "imdb_id                                                 tt2488496   \n",
       "popularity                                              11.173104   \n",
       "budget                                                  200000000   \n",
       "revenue                                                2068178225   \n",
       "original_title                       Star Wars: The Force Awakens   \n",
       "cast            Harrison Ford|Mark Hamill|Carrie Fisher|Adam D...   \n",
       "director                                              J.J. Abrams   \n",
       "runtime                                                       136   \n",
       "genres                   Action|Adventure|Science Fiction|Fantasy   \n",
       "release_date                                  2015-12-15 00:00:00   \n",
       "vote_count                                                   5292   \n",
       "vote_average                                                  7.5   \n",
       "release_year                                                 2015   \n",
       "budget_adj                                       183999919.040035   \n",
       "revenue_adj                                      1902723129.80182   \n",
       "\n",
       "                                                                4  \n",
       "id                                                         168259  \n",
       "imdb_id                                                 tt2820852  \n",
       "popularity                                               9.335014  \n",
       "budget                                                  190000000  \n",
       "revenue                                                1506249360  \n",
       "original_title                                          Furious 7  \n",
       "cast            Vin Diesel|Paul Walker|Jason Statham|Michelle ...  \n",
       "director                                                James Wan  \n",
       "runtime                                                       137  \n",
       "genres                                      Action|Crime|Thriller  \n",
       "release_date                                  2015-04-01 00:00:00  \n",
       "vote_count                                                   2947  \n",
       "vote_average                                                  7.3  \n",
       "release_year                                                 2015  \n",
       "budget_adj                                       174799923.088033  \n",
       "revenue_adj                                      1385748801.47052  "
      ]
     },
     "execution_count": 149,
     "metadata": {},
     "output_type": "execute_result"
    }
   ],
   "source": [
    "df_movies.head().T"
   ]
  },
  {
   "cell_type": "code",
   "execution_count": 150,
   "metadata": {},
   "outputs": [
    {
     "data": {
      "text/html": [
       "<div>\n",
       "<style scoped>\n",
       "    .dataframe tbody tr th:only-of-type {\n",
       "        vertical-align: middle;\n",
       "    }\n",
       "\n",
       "    .dataframe tbody tr th {\n",
       "        vertical-align: top;\n",
       "    }\n",
       "\n",
       "    .dataframe thead th {\n",
       "        text-align: right;\n",
       "    }\n",
       "</style>\n",
       "<table border=\"1\" class=\"dataframe\">\n",
       "  <thead>\n",
       "    <tr style=\"text-align: right;\">\n",
       "      <th></th>\n",
       "      <th>id</th>\n",
       "      <th>imdb_id</th>\n",
       "      <th>popularity</th>\n",
       "      <th>budget</th>\n",
       "      <th>revenue</th>\n",
       "      <th>original_title</th>\n",
       "      <th>cast</th>\n",
       "      <th>director</th>\n",
       "      <th>runtime</th>\n",
       "      <th>genres</th>\n",
       "      <th>release_date</th>\n",
       "      <th>vote_count</th>\n",
       "      <th>vote_average</th>\n",
       "      <th>release_year</th>\n",
       "      <th>budget_adj</th>\n",
       "      <th>revenue_adj</th>\n",
       "      <th>id_title</th>\n",
       "    </tr>\n",
       "  </thead>\n",
       "  <tbody>\n",
       "    <tr>\n",
       "      <th>0</th>\n",
       "      <td>135397</td>\n",
       "      <td>tt0369610</td>\n",
       "      <td>32.985763</td>\n",
       "      <td>150000000</td>\n",
       "      <td>1513528810</td>\n",
       "      <td>Jurassic World</td>\n",
       "      <td>Chris Pratt|Bryce Dallas Howard|Irrfan Khan|Vi...</td>\n",
       "      <td>Colin Trevorrow</td>\n",
       "      <td>124</td>\n",
       "      <td>Action|Adventure|Science Fiction|Thriller</td>\n",
       "      <td>2015-06-09</td>\n",
       "      <td>5562</td>\n",
       "      <td>6.5</td>\n",
       "      <td>2015</td>\n",
       "      <td>1.379999e+08</td>\n",
       "      <td>1.392446e+09</td>\n",
       "      <td>tt0369610, Jurassic World</td>\n",
       "    </tr>\n",
       "    <tr>\n",
       "      <th>1</th>\n",
       "      <td>76341</td>\n",
       "      <td>tt1392190</td>\n",
       "      <td>28.419936</td>\n",
       "      <td>150000000</td>\n",
       "      <td>378436354</td>\n",
       "      <td>Mad Max: Fury Road</td>\n",
       "      <td>Tom Hardy|Charlize Theron|Hugh Keays-Byrne|Nic...</td>\n",
       "      <td>George Miller</td>\n",
       "      <td>120</td>\n",
       "      <td>Action|Adventure|Science Fiction|Thriller</td>\n",
       "      <td>2015-05-13</td>\n",
       "      <td>6185</td>\n",
       "      <td>7.1</td>\n",
       "      <td>2015</td>\n",
       "      <td>1.379999e+08</td>\n",
       "      <td>3.481613e+08</td>\n",
       "      <td>tt1392190, Mad Max: Fury Road</td>\n",
       "    </tr>\n",
       "    <tr>\n",
       "      <th>2</th>\n",
       "      <td>262500</td>\n",
       "      <td>tt2908446</td>\n",
       "      <td>13.112507</td>\n",
       "      <td>110000000</td>\n",
       "      <td>295238201</td>\n",
       "      <td>Insurgent</td>\n",
       "      <td>Shailene Woodley|Theo James|Kate Winslet|Ansel...</td>\n",
       "      <td>Robert Schwentke</td>\n",
       "      <td>119</td>\n",
       "      <td>Adventure|Science Fiction|Thriller</td>\n",
       "      <td>2015-03-18</td>\n",
       "      <td>2480</td>\n",
       "      <td>6.3</td>\n",
       "      <td>2015</td>\n",
       "      <td>1.012000e+08</td>\n",
       "      <td>2.716190e+08</td>\n",
       "      <td>tt2908446, Insurgent</td>\n",
       "    </tr>\n",
       "    <tr>\n",
       "      <th>3</th>\n",
       "      <td>140607</td>\n",
       "      <td>tt2488496</td>\n",
       "      <td>11.173104</td>\n",
       "      <td>200000000</td>\n",
       "      <td>2068178225</td>\n",
       "      <td>Star Wars: The Force Awakens</td>\n",
       "      <td>Harrison Ford|Mark Hamill|Carrie Fisher|Adam D...</td>\n",
       "      <td>J.J. Abrams</td>\n",
       "      <td>136</td>\n",
       "      <td>Action|Adventure|Science Fiction|Fantasy</td>\n",
       "      <td>2015-12-15</td>\n",
       "      <td>5292</td>\n",
       "      <td>7.5</td>\n",
       "      <td>2015</td>\n",
       "      <td>1.839999e+08</td>\n",
       "      <td>1.902723e+09</td>\n",
       "      <td>tt2488496, Star Wars: The Force Awakens</td>\n",
       "    </tr>\n",
       "    <tr>\n",
       "      <th>4</th>\n",
       "      <td>168259</td>\n",
       "      <td>tt2820852</td>\n",
       "      <td>9.335014</td>\n",
       "      <td>190000000</td>\n",
       "      <td>1506249360</td>\n",
       "      <td>Furious 7</td>\n",
       "      <td>Vin Diesel|Paul Walker|Jason Statham|Michelle ...</td>\n",
       "      <td>James Wan</td>\n",
       "      <td>137</td>\n",
       "      <td>Action|Crime|Thriller</td>\n",
       "      <td>2015-04-01</td>\n",
       "      <td>2947</td>\n",
       "      <td>7.3</td>\n",
       "      <td>2015</td>\n",
       "      <td>1.747999e+08</td>\n",
       "      <td>1.385749e+09</td>\n",
       "      <td>tt2820852, Furious 7</td>\n",
       "    </tr>\n",
       "  </tbody>\n",
       "</table>\n",
       "</div>"
      ],
      "text/plain": [
       "       id    imdb_id  popularity     budget     revenue  \\\n",
       "0  135397  tt0369610   32.985763  150000000  1513528810   \n",
       "1   76341  tt1392190   28.419936  150000000   378436354   \n",
       "2  262500  tt2908446   13.112507  110000000   295238201   \n",
       "3  140607  tt2488496   11.173104  200000000  2068178225   \n",
       "4  168259  tt2820852    9.335014  190000000  1506249360   \n",
       "\n",
       "                 original_title  \\\n",
       "0                Jurassic World   \n",
       "1            Mad Max: Fury Road   \n",
       "2                     Insurgent   \n",
       "3  Star Wars: The Force Awakens   \n",
       "4                     Furious 7   \n",
       "\n",
       "                                                cast          director  \\\n",
       "0  Chris Pratt|Bryce Dallas Howard|Irrfan Khan|Vi...   Colin Trevorrow   \n",
       "1  Tom Hardy|Charlize Theron|Hugh Keays-Byrne|Nic...     George Miller   \n",
       "2  Shailene Woodley|Theo James|Kate Winslet|Ansel...  Robert Schwentke   \n",
       "3  Harrison Ford|Mark Hamill|Carrie Fisher|Adam D...       J.J. Abrams   \n",
       "4  Vin Diesel|Paul Walker|Jason Statham|Michelle ...         James Wan   \n",
       "\n",
       "   runtime                                     genres release_date  \\\n",
       "0      124  Action|Adventure|Science Fiction|Thriller   2015-06-09   \n",
       "1      120  Action|Adventure|Science Fiction|Thriller   2015-05-13   \n",
       "2      119         Adventure|Science Fiction|Thriller   2015-03-18   \n",
       "3      136   Action|Adventure|Science Fiction|Fantasy   2015-12-15   \n",
       "4      137                      Action|Crime|Thriller   2015-04-01   \n",
       "\n",
       "   vote_count  vote_average  release_year    budget_adj   revenue_adj  \\\n",
       "0        5562           6.5          2015  1.379999e+08  1.392446e+09   \n",
       "1        6185           7.1          2015  1.379999e+08  3.481613e+08   \n",
       "2        2480           6.3          2015  1.012000e+08  2.716190e+08   \n",
       "3        5292           7.5          2015  1.839999e+08  1.902723e+09   \n",
       "4        2947           7.3          2015  1.747999e+08  1.385749e+09   \n",
       "\n",
       "                                  id_title  \n",
       "0                tt0369610, Jurassic World  \n",
       "1            tt1392190, Mad Max: Fury Road  \n",
       "2                     tt2908446, Insurgent  \n",
       "3  tt2488496, Star Wars: The Force Awakens  \n",
       "4                     tt2820852, Furious 7  "
      ]
     },
     "execution_count": 150,
     "metadata": {},
     "output_type": "execute_result"
    }
   ],
   "source": [
    "df_movies[\"id_title\"]= df_movies[\"imdb_id\"].str.cat(df_movies[\"original_title\"], sep =\", \")\n",
    "df_movies.head()"
   ]
  },
  {
   "cell_type": "code",
   "execution_count": 151,
   "metadata": {},
   "outputs": [
    {
     "data": {
      "text/plain": [
       "0    Action|Adventure|Science Fiction|Thriller\n",
       "1    Action|Adventure|Science Fiction|Thriller\n",
       "2           Adventure|Science Fiction|Thriller\n",
       "3     Action|Adventure|Science Fiction|Fantasy\n",
       "4                        Action|Crime|Thriller\n",
       "Name: genres, dtype: object"
      ]
     },
     "execution_count": 151,
     "metadata": {},
     "output_type": "execute_result"
    }
   ],
   "source": [
    "df_movies['genres'].head().T"
   ]
  },
  {
   "cell_type": "code",
   "execution_count": 152,
   "metadata": {},
   "outputs": [
    {
     "data": {
      "text/plain": [
       "id                 0\n",
       "imdb_id           10\n",
       "popularity         0\n",
       "budget             0\n",
       "revenue            0\n",
       "original_title     0\n",
       "cast              76\n",
       "director          44\n",
       "runtime            0\n",
       "genres            23\n",
       "release_date       0\n",
       "vote_count         0\n",
       "vote_average       0\n",
       "release_year       0\n",
       "budget_adj         0\n",
       "revenue_adj        0\n",
       "id_title          10\n",
       "dtype: int64"
      ]
     },
     "execution_count": 152,
     "metadata": {},
     "output_type": "execute_result"
    }
   ],
   "source": [
    "df_movies.isnull().sum(axis=0) #Missing values"
   ]
  },
  {
   "cell_type": "code",
   "execution_count": 153,
   "metadata": {},
   "outputs": [
    {
     "name": "stdout",
     "output_type": "stream",
     "text": [
      "<class 'pandas.core.series.Series'>\n",
      "RangeIndex: 10866 entries, 0 to 10865\n",
      "Series name: None\n",
      "Non-Null Count  Dtype\n",
      "--------------  -----\n",
      "10866 non-null  int64\n",
      "dtypes: int64(1)\n",
      "memory usage: 85.0 KB\n"
     ]
    }
   ],
   "source": [
    "df_movies.isnull().sum(axis=1).info()"
   ]
  },
  {
   "cell_type": "code",
   "execution_count": 168,
   "metadata": {},
   "outputs": [
    {
     "data": {
      "text/plain": [
       "Index(['id', 'imdb_id', 'popularity', 'budget', 'revenue', 'original_title',\n",
       "       'cast', 'director', 'runtime', 'genres', 'release_date', 'vote_count',\n",
       "       'vote_average', 'release_year', 'budget_adj', 'revenue_adj',\n",
       "       'id_title'],\n",
       "      dtype='object')"
      ]
     },
     "execution_count": 168,
     "metadata": {},
     "output_type": "execute_result"
    }
   ],
   "source": [
    "df_movies.columns"
   ]
  },
  {
   "cell_type": "code",
   "execution_count": 154,
   "metadata": {},
   "outputs": [
    {
     "data": {
      "text/plain": [
       "1"
      ]
     },
     "execution_count": 154,
     "metadata": {},
     "output_type": "execute_result"
    }
   ],
   "source": [
    "sum(df_movies.duplicated()) #duplicated_values"
   ]
  },
  {
   "cell_type": "code",
   "execution_count": 155,
   "metadata": {
    "scrolled": false
   },
   "outputs": [
    {
     "data": {
      "text/plain": [
       "id                         int64\n",
       "imdb_id                   object\n",
       "popularity               float64\n",
       "budget                     int64\n",
       "revenue                    int64\n",
       "original_title            object\n",
       "cast                      object\n",
       "director                  object\n",
       "runtime                    int64\n",
       "genres                    object\n",
       "release_date      datetime64[ns]\n",
       "vote_count                 int64\n",
       "vote_average             float64\n",
       "release_year               int64\n",
       "budget_adj               float64\n",
       "revenue_adj              float64\n",
       "id_title                  object\n",
       "dtype: object"
      ]
     },
     "execution_count": 155,
     "metadata": {},
     "output_type": "execute_result"
    }
   ],
   "source": [
    "df_movies.dtypes"
   ]
  },
  {
   "cell_type": "code",
   "execution_count": 156,
   "metadata": {},
   "outputs": [
    {
     "data": {
      "text/plain": [
       "id                10865\n",
       "imdb_id           10855\n",
       "popularity        10814\n",
       "budget              557\n",
       "revenue            4702\n",
       "original_title    10571\n",
       "cast              10719\n",
       "director           5067\n",
       "runtime             247\n",
       "genres             2039\n",
       "release_date       5909\n",
       "vote_count         1289\n",
       "vote_average         72\n",
       "release_year         56\n",
       "budget_adj         2614\n",
       "revenue_adj        4840\n",
       "id_title          10855\n",
       "dtype: int64"
      ]
     },
     "execution_count": 156,
     "metadata": {},
     "output_type": "execute_result"
    }
   ],
   "source": [
    "df_movies.nunique()"
   ]
  },
  {
   "cell_type": "code",
   "execution_count": 157,
   "metadata": {},
   "outputs": [
    {
     "data": {
      "text/plain": [
       "array(['Colin Trevorrow', 'George Miller', 'Robert Schwentke', ...,\n",
       "       'Alan Rafkin', 'Bruce Brown', 'Harold P. Warren'], dtype=object)"
      ]
     },
     "execution_count": 157,
     "metadata": {},
     "output_type": "execute_result"
    }
   ],
   "source": [
    "df_movies.director.unique()"
   ]
  },
  {
   "cell_type": "code",
   "execution_count": null,
   "metadata": {},
   "outputs": [],
   "source": []
  },
  {
   "cell_type": "code",
   "execution_count": null,
   "metadata": {},
   "outputs": [],
   "source": []
  },
  {
   "cell_type": "code",
   "execution_count": null,
   "metadata": {},
   "outputs": [],
   "source": []
  },
  {
   "cell_type": "code",
   "execution_count": null,
   "metadata": {},
   "outputs": [],
   "source": []
  },
  {
   "cell_type": "code",
   "execution_count": null,
   "metadata": {},
   "outputs": [],
   "source": []
  },
  {
   "cell_type": "code",
   "execution_count": null,
   "metadata": {},
   "outputs": [],
   "source": []
  },
  {
   "cell_type": "code",
   "execution_count": null,
   "metadata": {},
   "outputs": [],
   "source": []
  },
  {
   "cell_type": "code",
   "execution_count": null,
   "metadata": {},
   "outputs": [],
   "source": []
  },
  {
   "cell_type": "code",
   "execution_count": null,
   "metadata": {},
   "outputs": [],
   "source": []
  },
  {
   "cell_type": "code",
   "execution_count": null,
   "metadata": {},
   "outputs": [],
   "source": []
  },
  {
   "cell_type": "code",
   "execution_count": 158,
   "metadata": {
    "scrolled": true
   },
   "outputs": [],
   "source": [
    "#Extract all genres and put in one string but separated with the pipe character '|'\n",
    "#df_genres = df_movies['genres'].str.cat(sep = '|')\n",
    "#df_genres"
   ]
  },
  {
   "cell_type": "code",
   "execution_count": 159,
   "metadata": {
    "scrolled": true
   },
   "outputs": [],
   "source": [
    "#df_movie_genres = pd.Series(df_genres.split('|'))\n",
    "#df_movie_genres"
   ]
  },
  {
   "cell_type": "code",
   "execution_count": 160,
   "metadata": {},
   "outputs": [],
   "source": [
    "#info = df_movie_genres.value_counts(ascending = False)\n",
    "#info"
   ]
  },
  {
   "cell_type": "code",
   "execution_count": 161,
   "metadata": {
    "scrolled": true
   },
   "outputs": [],
   "source": [
    "#movie_genre = pd.DataFrame(info,columns =['number_of_movies'])\n",
    "#movie_genre"
   ]
  },
  {
   "cell_type": "code",
   "execution_count": 162,
   "metadata": {},
   "outputs": [
    {
     "data": {
      "text/plain": [
       "False"
      ]
     },
     "execution_count": 162,
     "metadata": {},
     "output_type": "execute_result"
    }
   ],
   "source": [
    "df_movies['release_date'].isnull().any()"
   ]
  },
  {
   "cell_type": "code",
   "execution_count": 163,
   "metadata": {
    "scrolled": true
   },
   "outputs": [],
   "source": [
    "#df_movies.dtypes"
   ]
  },
  {
   "cell_type": "markdown",
   "metadata": {
    "pycharm": {
     "name": "#%% md\n"
    }
   },
   "source": [
    "<a id='wrangling'></a>\n",
    "## Data Wrangling\n",
    "\n",
    "> **Tip**: In this section of the report, you will load in the data, check for cleanliness, and then trim and clean your dataset for analysis. Make sure that you document your steps carefully and justify your cleaning decisions.\n",
    "\n",
    "### General Properties"
   ]
  },
  {
   "cell_type": "code",
   "execution_count": 164,
   "metadata": {
    "pycharm": {
     "name": "#%%\n"
    }
   },
   "outputs": [],
   "source": [
    "# Load your data and print out a few lines. Perform operations to inspect data\n",
    "#   types and look for instances of missing or possibly errant data.\n"
   ]
  },
  {
   "cell_type": "markdown",
   "metadata": {
    "pycharm": {
     "name": "#%% md\n"
    }
   },
   "source": [
    "> **Tip**: You should _not_ perform too many operations in each cell. Create cells freely to explore your data. One option that you can take with this project is to do a lot of explorations in an initial notebook. These don't have to be organized, but make sure you use enough comments to understand the purpose of each code cell. Then, after you're done with your analysis, create a duplicate notebook where you will trim the excess and organize your steps so that you have a flowing, cohesive report.\n",
    "\n",
    "> **Tip**: Make sure that you keep your reader informed on the steps that you are taking in your investigation. Follow every code cell, or every set of related code cells, with a markdown cell to describe to the reader what was found in the preceding cell(s). Try to make it so that the reader can then understand what they will be seeing in the following cell(s).\n",
    "\n",
    "### Data Cleaning (Replace this with more specific notes!)"
   ]
  },
  {
   "cell_type": "code",
   "execution_count": 165,
   "metadata": {
    "pycharm": {
     "name": "#%%\n"
    }
   },
   "outputs": [],
   "source": [
    "# After discussing the structure of the data and any problems that need to be\n",
    "#   cleaned, perform those cleaning steps in the second part of this section.\n"
   ]
  },
  {
   "cell_type": "markdown",
   "metadata": {
    "pycharm": {
     "name": "#%% md\n"
    }
   },
   "source": [
    "<a id='eda'></a>\n",
    "## Exploratory Data Analysis\n",
    "\n",
    "> **Tip**: Now that you've trimmed and cleaned your data, you're ready to move on to exploration. Compute statistics and create visualizations with the goal of addressing the research questions that you posed in the Introduction section. It is recommended that you be systematic with your approach. Look at one variable at a time, and then follow it up by looking at relationships between variables.\n",
    "\n",
    "### Research Question 1 (Replace this header name!)"
   ]
  },
  {
   "cell_type": "code",
   "execution_count": 166,
   "metadata": {
    "pycharm": {
     "name": "#%%\n"
    }
   },
   "outputs": [],
   "source": [
    "# Use this, and more code cells, to explore your data. Don't forget to add\n",
    "#   Markdown cells to document your observations and findings.\n"
   ]
  },
  {
   "cell_type": "markdown",
   "metadata": {
    "pycharm": {
     "name": "#%% md\n"
    }
   },
   "source": [
    "### Research Question 2  (Replace this header name!)"
   ]
  },
  {
   "cell_type": "code",
   "execution_count": 167,
   "metadata": {
    "pycharm": {
     "name": "#%%\n"
    }
   },
   "outputs": [],
   "source": [
    "# Continue to explore the data to address your additional research\n",
    "#   questions. Add more headers as needed if you have more questions to\n",
    "#   investigate.\n"
   ]
  },
  {
   "cell_type": "markdown",
   "metadata": {
    "pycharm": {
     "name": "#%% md\n"
    }
   },
   "source": [
    "<a id='conclusions'></a>\n",
    "## Conclusions\n",
    "\n",
    "> **Tip**: Finally, summarize your findings and the results that have been performed. Make sure that you are clear with regards to the limitations of your exploration. If you haven't done any statistical tests, do not imply any statistical conclusions. And make sure you avoid implying causation from correlation!\n",
    "\n",
    "> **Tip**: Once you are satisfied with your work, you should save a copy of the report in HTML or PDF form via the **File** > **Download as** submenu. Before exporting your report, check over it to make sure that the flow of the report is complete. You should probably remove all of the \"Tip\" quotes like this one so that the presentation is as tidy as possible. Congratulations!"
   ]
  },
  {
   "cell_type": "code",
   "execution_count": null,
   "metadata": {
    "pycharm": {
     "name": "#%%\n"
    }
   },
   "outputs": [],
   "source": []
  }
 ],
 "metadata": {
  "kernelspec": {
   "display_name": "Python 3 (ipykernel)",
   "language": "python",
   "name": "python3"
  },
  "language_info": {
   "codemirror_mode": {
    "name": "ipython",
    "version": 3
   },
   "file_extension": ".py",
   "mimetype": "text/x-python",
   "name": "python",
   "nbconvert_exporter": "python",
   "pygments_lexer": "ipython3",
   "version": "3.9.12"
  }
 },
 "nbformat": 4,
 "nbformat_minor": 2
}
